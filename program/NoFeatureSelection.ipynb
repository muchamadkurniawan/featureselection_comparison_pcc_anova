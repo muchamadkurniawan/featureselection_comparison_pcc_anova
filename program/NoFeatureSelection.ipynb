{
 "cells": [
  {
   "cell_type": "code",
   "execution_count": 1,
   "metadata": {},
   "outputs": [],
   "source": [
    "import math\n",
    "import cmath\n",
    "import sys\n",
    "import traceback\n",
    "import pandas as pd\n",
    "import numpy as np\n",
    "import seaborn as sns\n",
    "import scipy as sp\n",
    "from scipy import stats\n",
    "from scipy.stats import t\n",
    "from sklearn import model_selection\n",
    "import psutil"
   ]
  },
  {
   "cell_type": "code",
   "execution_count": 2,
   "metadata": {},
   "outputs": [
    {
     "data": {
      "text/plain": [
       "(1409, 23)"
      ]
     },
     "execution_count": 2,
     "metadata": {},
     "output_type": "execute_result"
    }
   ],
   "source": [
    "#data = pd.read_csv(\"D:\\PROPOSAL SKRIPSI\\DATASET\\MLBB.csv\", sep=';')\n",
    "data = pd.read_csv(\"D:\\PROPOSAL SKRIPSI\\DATASET\\depressed.csv\")\n",
    "#data = pd.read_csv(\"D:\\PROPOSAL SKRIPSI\\DATASET\\mobile.csv\")\n",
    "# data = pd.read_csv(\"D:\\PROPOSAL SKRIPSI\\iris.csv\")\n",
    "#data = pd.read_csv(\"D:\\PROPOSAL SKRIPSI\\DATASET\\pubg-final.csv\")\n",
    "#data = pd.read_csv(\"D:\\PROPOSAL SKRIPSI\\DATASET\\league-seasonal.csv\")\n",
    "df = pd.DataFrame(data)\n",
    "# df.drop('Id', axis = 1, inplace=True)\n",
    "df.drop('depressed', axis = 1, inplace=True)\n",
    "#df.drop('price_range', axis = 1, inplace=True)\n",
    "df.replace([np.inf, -np.inf], np.nan, inplace=True)\n",
    "df.dropna(inplace=True)\n",
    "df.isnull().sum()\n",
    "df.shape"
   ]
  },
  {
   "cell_type": "code",
   "execution_count": 3,
   "metadata": {},
   "outputs": [],
   "source": [
    "class classifier :\n",
    "    validation_size = 0.60\n",
    "    seed = 7     \n",
    "            \n",
    "    def model(self):\n",
    "        try:\n",
    "            # new_df = pd.DataFrame(data)\n",
    "            # new_df.drop(drop_features, axis=1, inplace=True)\n",
    "            # new_df.drop('Id', axis=1, inplace=True)\n",
    "        \n",
    "            \n",
    "            X = df.values[:,:-1]\n",
    "            Y = df.values[:,-1:]\n",
    "            \n",
    "      \n",
    "            np.random.seed(classifier.seed)\n",
    "            \n",
    "            X_train, X_test, Y_train, Y_test = model_selection.train_test_split(X, Y, test_size=classifier.validation_size, random_state=classifier.seed)\n",
    "            \n",
    "        \n",
    "            return (X_train, X_test, Y_train, Y_test)\n",
    "        except Exception as e:\n",
    "            raise \n",
    "            \n",
    "            \n",
    "    def KNN(self, X_train, X_test, Y_train, Y_test):\n",
    "        try:\n",
    "            from sklearn.neighbors import KNeighborsClassifier\n",
    "            model_KNN = KNeighborsClassifier(n_neighbors = 5, weights = 'distance', p = 3)\n",
    "            \n",
    "            \n",
    "            \n",
    "            model_KNN.fit(X_train,Y_train.ravel())\n",
    "            Y_pred = model_KNN.predict(X_test)\n",
    "            \n",
    "            print('1) Confusion Matrix for KNN Model:')\n",
    "            confusion_mat = pd.crosstab(Y_test.flatten(), Y_pred, rownames=['Actual'], colnames=['Predicted'], margins=True)\n",
    "            from IPython.display import display\n",
    "            display(confusion_mat)\n",
    "            \n",
    "            from sklearn.metrics import classification_report\n",
    "            cr = classification_report(Y_test, Y_pred, labels=None, target_names=None, sample_weight=None, digits=2)\n",
    "            print('2) Classification report:\\n',cr)\n",
    "            \n",
    "            accuracy_train = model_KNN.score(X_train,Y_train)\n",
    "            accuracy_test = model_KNN.score(X_test,Y_test)\n",
    "            print('3) Accuracy on train and test datasets:', \"%.4f and %.4f\" % (accuracy_train, accuracy_test))\n",
    "           \n",
    "            \n",
    "            return (accuracy_train, accuracy_test)\n",
    "        \n",
    "        \n",
    "        \n",
    "            \n",
    "        except Exception as e:\n",
    "            raise \n",
    "            \n",
    "            \n",
    "    def DecisionTree(self, X_train, X_test, Y_train, Y_test):\n",
    "        try:\n",
    "           from sklearn.tree import DecisionTreeClassifier\n",
    "           model_DT = DecisionTreeClassifier(min_samples_leaf = 3, random_state = classifier.seed)\n",
    "           \n",
    "           \n",
    "           model_DT.fit(X_train,Y_train)\n",
    "           Y_pred = model_DT.predict(X_test)\n",
    "            \n",
    "           print('1) Confusion Matrix for DT Model:')\n",
    "           confusion_mat = pd.crosstab(Y_test.flatten(), Y_pred, rownames=['Actual'], colnames=['Predicted'], margins=True)\n",
    "           from IPython.display import display\n",
    "           display(confusion_mat)\n",
    "            \n",
    "           from sklearn.metrics import classification_report\n",
    "           cr = classification_report(Y_test.flatten(), Y_pred, labels=None, target_names=None, sample_weight=None, digits=2)\n",
    "           print('2) Classification report:\\n',cr)\n",
    "            \n",
    "           accuracy_train = model_DT.score(X_train,Y_train)\n",
    "           accuracy_test = model_DT.score(X_test,Y_test)\n",
    "           print('3) Accuracy on train and test datasets:', \"%.4f and %.4f\" % (accuracy_train, accuracy_test))\n",
    "           \n",
    "           return (accuracy_train, accuracy_test)\n",
    "       \n",
    "        \n",
    "        except Exception as e:\n",
    "            raise \n",
    "            \n",
    "            \n",
    "    def SupportVectorMachine(self, X_train, X_test, Y_train, Y_test):\n",
    "        try:\n",
    "            from sklearn import svm\n",
    "            model_SVC = svm.SVC(gamma = 'auto')\n",
    "            \n",
    "            \n",
    "            model_SVC.fit(X_train,Y_train)\n",
    "            Y_pred = model_SVC.predict(X_test)\n",
    "            \n",
    "            print('1) Confusion Matrix for SVC Model:')\n",
    "            confusion_mat = pd.crosstab(Y_test.flatten(), Y_pred, rownames=['Actual'], colnames=['Predicted'], margins=True)\n",
    "            from IPython.display import display\n",
    "            display(confusion_mat)\n",
    "            \n",
    "            from sklearn.metrics import classification_report\n",
    "            cr = classification_report(Y_test, Y_pred, labels=None, target_names=None, sample_weight=None, digits=2)\n",
    "            print('2) Classification report:\\n',cr)\n",
    "            \n",
    "            accuracy_train = model_SVC.score(X_train,Y_train)\n",
    "            accuracy_test = model_SVC.score(X_test,Y_test)\n",
    "            print('3) Accuracy on train and test datasets:', \"%.4f and %.4f\" % (accuracy_train, accuracy_test))\n",
    "            \n",
    "            return (accuracy_train, accuracy_test)\n",
    "        \n",
    "        \n",
    "        except Exception as e:\n",
    "            raise \n",
    "            \n",
    "            \n",
    "    def NaiveBayes(self, X_train, X_test, Y_train, Y_test):\n",
    "        try:\n",
    "            from sklearn.naive_bayes import GaussianNB\n",
    "            model_NB = GaussianNB()\n",
    "            \n",
    "            \n",
    "            model_NB.fit(X_train,Y_train)\n",
    "            Y_pred = model_NB.predict(X_test)\n",
    "            \n",
    "            print('1) Confusion Matrix for NB Model:')\n",
    "            confusion_mat = pd.crosstab(Y_test.flatten(), Y_pred, rownames=['Actual'], colnames=['Predicted'], margins=True)\n",
    "            from IPython.display import display\n",
    "            display(confusion_mat)\n",
    "            \n",
    "            from sklearn.metrics import classification_report\n",
    "            cr = classification_report(Y_test, Y_pred, labels=None, target_names=None, sample_weight=None, digits=2)\n",
    "            print('2) Classification report:\\n',cr)\n",
    "            \n",
    "            accuracy_train = model_NB.score(X_train,Y_train)\n",
    "            accuracy_test = model_NB.score(X_test,Y_test)\n",
    "            print('3) Accuracy on train and test datasets:', \"%.4f and %.4f\" % (accuracy_train, accuracy_test))\n",
    "            \n",
    "           \n",
    "            return (accuracy_train, accuracy_test)\n",
    "        \n",
    "        \n",
    "        except Exception as e:\n",
    "            raise "
   ]
  },
  {
   "cell_type": "code",
   "execution_count": 4,
   "metadata": {},
   "outputs": [],
   "source": [
    "if __name__ == '__main__':\n",
    "    try:\n",
    "        \n",
    "        \n",
    "        objClassifier = classifier()\n",
    "        \n",
    "       \n",
    "        model = objClassifier.model()\n",
    "        \n",
    "       \n",
    "        \n",
    "                \n",
    "          \n",
    "    except Exception as e:\n",
    "        traceback.print_exc()\n",
    "        sys.exit(1)"
   ]
  },
  {
   "cell_type": "code",
   "execution_count": 5,
   "metadata": {},
   "outputs": [
    {
     "name": "stdout",
     "output_type": "stream",
     "text": [
      "1) Confusion Matrix for KNN Model:\n"
     ]
    },
    {
     "data": {
      "text/html": [
       "<div>\n",
       "<style scoped>\n",
       "    .dataframe tbody tr th:only-of-type {\n",
       "        vertical-align: middle;\n",
       "    }\n",
       "\n",
       "    .dataframe tbody tr th {\n",
       "        vertical-align: top;\n",
       "    }\n",
       "\n",
       "    .dataframe thead th {\n",
       "        text-align: right;\n",
       "    }\n",
       "</style>\n",
       "<table border=\"1\" class=\"dataframe\">\n",
       "  <thead>\n",
       "    <tr style=\"text-align: right;\">\n",
       "      <th>Predicted</th>\n",
       "      <th>Depressed</th>\n",
       "      <th>No</th>\n",
       "      <th>All</th>\n",
       "    </tr>\n",
       "    <tr>\n",
       "      <th>Actual</th>\n",
       "      <th></th>\n",
       "      <th></th>\n",
       "      <th></th>\n",
       "    </tr>\n",
       "  </thead>\n",
       "  <tbody>\n",
       "    <tr>\n",
       "      <th>Depressed</th>\n",
       "      <td>8</td>\n",
       "      <td>120</td>\n",
       "      <td>128</td>\n",
       "    </tr>\n",
       "    <tr>\n",
       "      <th>No</th>\n",
       "      <td>40</td>\n",
       "      <td>678</td>\n",
       "      <td>718</td>\n",
       "    </tr>\n",
       "    <tr>\n",
       "      <th>All</th>\n",
       "      <td>48</td>\n",
       "      <td>798</td>\n",
       "      <td>846</td>\n",
       "    </tr>\n",
       "  </tbody>\n",
       "</table>\n",
       "</div>"
      ],
      "text/plain": [
       "Predicted  Depressed   No  All\n",
       "Actual                        \n",
       "Depressed          8  120  128\n",
       "No                40  678  718\n",
       "All               48  798  846"
      ]
     },
     "metadata": {},
     "output_type": "display_data"
    },
    {
     "name": "stdout",
     "output_type": "stream",
     "text": [
      "2) Classification report:\n",
      "               precision    recall  f1-score   support\n",
      "\n",
      "   Depressed       0.17      0.06      0.09       128\n",
      "          No       0.85      0.94      0.89       718\n",
      "\n",
      "    accuracy                           0.81       846\n",
      "   macro avg       0.51      0.50      0.49       846\n",
      "weighted avg       0.75      0.81      0.77       846\n",
      "\n",
      "3) Accuracy on train and test datasets: 1.0000 and 0.8109\n"
     ]
    }
   ],
   "source": [
    "KNN = objClassifier.KNN(model[0], model[1], model[2], model[3])"
   ]
  },
  {
   "cell_type": "code",
   "execution_count": 6,
   "metadata": {},
   "outputs": [
    {
     "name": "stdout",
     "output_type": "stream",
     "text": [
      "1) Confusion Matrix for DT Model:\n"
     ]
    },
    {
     "data": {
      "text/html": [
       "<div>\n",
       "<style scoped>\n",
       "    .dataframe tbody tr th:only-of-type {\n",
       "        vertical-align: middle;\n",
       "    }\n",
       "\n",
       "    .dataframe tbody tr th {\n",
       "        vertical-align: top;\n",
       "    }\n",
       "\n",
       "    .dataframe thead th {\n",
       "        text-align: right;\n",
       "    }\n",
       "</style>\n",
       "<table border=\"1\" class=\"dataframe\">\n",
       "  <thead>\n",
       "    <tr style=\"text-align: right;\">\n",
       "      <th>Predicted</th>\n",
       "      <th>Depressed</th>\n",
       "      <th>No</th>\n",
       "      <th>All</th>\n",
       "    </tr>\n",
       "    <tr>\n",
       "      <th>Actual</th>\n",
       "      <th></th>\n",
       "      <th></th>\n",
       "      <th></th>\n",
       "    </tr>\n",
       "  </thead>\n",
       "  <tbody>\n",
       "    <tr>\n",
       "      <th>Depressed</th>\n",
       "      <td>42</td>\n",
       "      <td>86</td>\n",
       "      <td>128</td>\n",
       "    </tr>\n",
       "    <tr>\n",
       "      <th>No</th>\n",
       "      <td>157</td>\n",
       "      <td>561</td>\n",
       "      <td>718</td>\n",
       "    </tr>\n",
       "    <tr>\n",
       "      <th>All</th>\n",
       "      <td>199</td>\n",
       "      <td>647</td>\n",
       "      <td>846</td>\n",
       "    </tr>\n",
       "  </tbody>\n",
       "</table>\n",
       "</div>"
      ],
      "text/plain": [
       "Predicted  Depressed   No  All\n",
       "Actual                        \n",
       "Depressed         42   86  128\n",
       "No               157  561  718\n",
       "All              199  647  846"
      ]
     },
     "metadata": {},
     "output_type": "display_data"
    },
    {
     "name": "stdout",
     "output_type": "stream",
     "text": [
      "2) Classification report:\n",
      "               precision    recall  f1-score   support\n",
      "\n",
      "   Depressed       0.21      0.33      0.26       128\n",
      "          No       0.87      0.78      0.82       718\n",
      "\n",
      "    accuracy                           0.71       846\n",
      "   macro avg       0.54      0.55      0.54       846\n",
      "weighted avg       0.77      0.71      0.74       846\n",
      "\n",
      "3) Accuracy on train and test datasets: 0.9272 and 0.7128\n"
     ]
    }
   ],
   "source": [
    "DT = objClassifier.DecisionTree(model[0], model[1], model[2], model[3])"
   ]
  },
  {
   "cell_type": "code",
   "execution_count": 7,
   "metadata": {},
   "outputs": [
    {
     "name": "stdout",
     "output_type": "stream",
     "text": [
      "1) Confusion Matrix for SVC Model:\n"
     ]
    },
    {
     "name": "stderr",
     "output_type": "stream",
     "text": [
      "D:\\Anaconda\\lib\\site-packages\\sklearn\\utils\\validation.py:63: DataConversionWarning: A column-vector y was passed when a 1d array was expected. Please change the shape of y to (n_samples, ), for example using ravel().\n",
      "  return f(*args, **kwargs)\n"
     ]
    },
    {
     "data": {
      "text/html": [
       "<div>\n",
       "<style scoped>\n",
       "    .dataframe tbody tr th:only-of-type {\n",
       "        vertical-align: middle;\n",
       "    }\n",
       "\n",
       "    .dataframe tbody tr th {\n",
       "        vertical-align: top;\n",
       "    }\n",
       "\n",
       "    .dataframe thead th {\n",
       "        text-align: right;\n",
       "    }\n",
       "</style>\n",
       "<table border=\"1\" class=\"dataframe\">\n",
       "  <thead>\n",
       "    <tr style=\"text-align: right;\">\n",
       "      <th>Predicted</th>\n",
       "      <th>No</th>\n",
       "      <th>All</th>\n",
       "    </tr>\n",
       "    <tr>\n",
       "      <th>Actual</th>\n",
       "      <th></th>\n",
       "      <th></th>\n",
       "    </tr>\n",
       "  </thead>\n",
       "  <tbody>\n",
       "    <tr>\n",
       "      <th>Depressed</th>\n",
       "      <td>128</td>\n",
       "      <td>128</td>\n",
       "    </tr>\n",
       "    <tr>\n",
       "      <th>No</th>\n",
       "      <td>718</td>\n",
       "      <td>718</td>\n",
       "    </tr>\n",
       "    <tr>\n",
       "      <th>All</th>\n",
       "      <td>846</td>\n",
       "      <td>846</td>\n",
       "    </tr>\n",
       "  </tbody>\n",
       "</table>\n",
       "</div>"
      ],
      "text/plain": [
       "Predicted   No  All\n",
       "Actual             \n",
       "Depressed  128  128\n",
       "No         718  718\n",
       "All        846  846"
      ]
     },
     "metadata": {},
     "output_type": "display_data"
    },
    {
     "name": "stderr",
     "output_type": "stream",
     "text": [
      "D:\\Anaconda\\lib\\site-packages\\sklearn\\metrics\\_classification.py:1248: UndefinedMetricWarning: Precision and F-score are ill-defined and being set to 0.0 in labels with no predicted samples. Use `zero_division` parameter to control this behavior.\n",
      "  _warn_prf(average, modifier, msg_start, len(result))\n",
      "D:\\Anaconda\\lib\\site-packages\\sklearn\\metrics\\_classification.py:1248: UndefinedMetricWarning: Precision and F-score are ill-defined and being set to 0.0 in labels with no predicted samples. Use `zero_division` parameter to control this behavior.\n",
      "  _warn_prf(average, modifier, msg_start, len(result))\n",
      "D:\\Anaconda\\lib\\site-packages\\sklearn\\metrics\\_classification.py:1248: UndefinedMetricWarning: Precision and F-score are ill-defined and being set to 0.0 in labels with no predicted samples. Use `zero_division` parameter to control this behavior.\n",
      "  _warn_prf(average, modifier, msg_start, len(result))\n"
     ]
    },
    {
     "name": "stdout",
     "output_type": "stream",
     "text": [
      "2) Classification report:\n",
      "               precision    recall  f1-score   support\n",
      "\n",
      "   Depressed       0.00      0.00      0.00       128\n",
      "          No       0.85      1.00      0.92       718\n",
      "\n",
      "    accuracy                           0.85       846\n",
      "   macro avg       0.42      0.50      0.46       846\n",
      "weighted avg       0.72      0.85      0.78       846\n",
      "\n",
      "3) Accuracy on train and test datasets: 0.9982 and 0.8487\n"
     ]
    }
   ],
   "source": [
    "SVM = objClassifier.SupportVectorMachine(model[0], model[1], model[2], model[3])"
   ]
  },
  {
   "cell_type": "code",
   "execution_count": 8,
   "metadata": {},
   "outputs": [
    {
     "name": "stderr",
     "output_type": "stream",
     "text": [
      "D:\\Anaconda\\lib\\site-packages\\sklearn\\utils\\validation.py:63: DataConversionWarning: A column-vector y was passed when a 1d array was expected. Please change the shape of y to (n_samples, ), for example using ravel().\n",
      "  return f(*args, **kwargs)\n"
     ]
    },
    {
     "name": "stdout",
     "output_type": "stream",
     "text": [
      "1) Confusion Matrix for NB Model:\n"
     ]
    },
    {
     "data": {
      "text/html": [
       "<div>\n",
       "<style scoped>\n",
       "    .dataframe tbody tr th:only-of-type {\n",
       "        vertical-align: middle;\n",
       "    }\n",
       "\n",
       "    .dataframe tbody tr th {\n",
       "        vertical-align: top;\n",
       "    }\n",
       "\n",
       "    .dataframe thead th {\n",
       "        text-align: right;\n",
       "    }\n",
       "</style>\n",
       "<table border=\"1\" class=\"dataframe\">\n",
       "  <thead>\n",
       "    <tr style=\"text-align: right;\">\n",
       "      <th>Predicted</th>\n",
       "      <th>Depressed</th>\n",
       "      <th>No</th>\n",
       "      <th>All</th>\n",
       "    </tr>\n",
       "    <tr>\n",
       "      <th>Actual</th>\n",
       "      <th></th>\n",
       "      <th></th>\n",
       "      <th></th>\n",
       "    </tr>\n",
       "  </thead>\n",
       "  <tbody>\n",
       "    <tr>\n",
       "      <th>Depressed</th>\n",
       "      <td>7</td>\n",
       "      <td>121</td>\n",
       "      <td>128</td>\n",
       "    </tr>\n",
       "    <tr>\n",
       "      <th>No</th>\n",
       "      <td>53</td>\n",
       "      <td>665</td>\n",
       "      <td>718</td>\n",
       "    </tr>\n",
       "    <tr>\n",
       "      <th>All</th>\n",
       "      <td>60</td>\n",
       "      <td>786</td>\n",
       "      <td>846</td>\n",
       "    </tr>\n",
       "  </tbody>\n",
       "</table>\n",
       "</div>"
      ],
      "text/plain": [
       "Predicted  Depressed   No  All\n",
       "Actual                        \n",
       "Depressed          7  121  128\n",
       "No                53  665  718\n",
       "All               60  786  846"
      ]
     },
     "metadata": {},
     "output_type": "display_data"
    },
    {
     "name": "stdout",
     "output_type": "stream",
     "text": [
      "2) Classification report:\n",
      "               precision    recall  f1-score   support\n",
      "\n",
      "   Depressed       0.12      0.05      0.07       128\n",
      "          No       0.85      0.93      0.88       718\n",
      "\n",
      "    accuracy                           0.79       846\n",
      "   macro avg       0.48      0.49      0.48       846\n",
      "weighted avg       0.74      0.79      0.76       846\n",
      "\n",
      "3) Accuracy on train and test datasets: 0.7851 and 0.7943\n"
     ]
    }
   ],
   "source": [
    "NB = objClassifier.NaiveBayes(model[0], model[1], model[2], model[3])"
   ]
  },
  {
   "cell_type": "code",
   "execution_count": 9,
   "metadata": {},
   "outputs": [
    {
     "name": "stdout",
     "output_type": "stream",
     "text": [
      "The CPU usage is:  15.6\n",
      "RAM memory % used: 75.0\n"
     ]
    }
   ],
   "source": [
    "print('The CPU usage is: ', psutil.cpu_percent())\n",
    "  \n",
    "# Getting % usage of virtual_memory ( 3rd field)\n",
    "print('RAM memory % used:', psutil.virtual_memory()[2])"
   ]
  },
  {
   "cell_type": "code",
   "execution_count": null,
   "metadata": {},
   "outputs": [],
   "source": []
  },
  {
   "cell_type": "code",
   "execution_count": null,
   "metadata": {},
   "outputs": [],
   "source": []
  },
  {
   "cell_type": "code",
   "execution_count": null,
   "metadata": {},
   "outputs": [],
   "source": []
  },
  {
   "cell_type": "code",
   "execution_count": null,
   "metadata": {},
   "outputs": [],
   "source": []
  },
  {
   "cell_type": "code",
   "execution_count": null,
   "metadata": {},
   "outputs": [],
   "source": []
  }
 ],
 "metadata": {
  "kernelspec": {
   "display_name": "Python 3",
   "language": "python",
   "name": "python3"
  },
  "language_info": {
   "codemirror_mode": {
    "name": "ipython",
    "version": 3
   },
   "file_extension": ".py",
   "mimetype": "text/x-python",
   "name": "python",
   "nbconvert_exporter": "python",
   "pygments_lexer": "ipython3",
   "version": "3.8.5"
  }
 },
 "nbformat": 4,
 "nbformat_minor": 4
}
