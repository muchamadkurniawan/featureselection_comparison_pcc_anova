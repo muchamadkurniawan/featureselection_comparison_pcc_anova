{
 "cells": [
  {
   "cell_type": "markdown",
   "metadata": {},
   "source": [
    "# Feature Selection Pearson Correlation Coefficien on Depression Dataset"
   ]
  },
  {
   "cell_type": "markdown",
   "metadata": {},
   "source": [
    "## Import Library"
   ]
  },
  {
   "cell_type": "code",
   "execution_count": 1,
   "metadata": {},
   "outputs": [],
   "source": [
    "import math\n",
    "import cmath\n",
    "import sys\n",
    "import traceback\n",
    "import pandas as pd\n",
    "import numpy as np\n",
    "import seaborn as sns\n",
    "import scipy as sp\n",
    "from scipy import stats\n",
    "from scipy.stats import t\n",
    "from sklearn import model_selection"
   ]
  },
  {
   "cell_type": "code",
   "execution_count": 2,
   "metadata": {},
   "outputs": [
    {
     "ename": "FileNotFoundError",
     "evalue": "[Errno 2] No such file or directory: 'D:\\\\PROPOSAL SKRIPSI\\\\DATASET\\\\depressed.csv'",
     "output_type": "error",
     "traceback": [
      "\u001b[1;31m---------------------------------------------------------------------------\u001b[0m",
      "\u001b[1;31mFileNotFoundError\u001b[0m                         Traceback (most recent call last)",
      "Input \u001b[1;32mIn [2]\u001b[0m, in \u001b[0;36m<cell line: 2>\u001b[1;34m()\u001b[0m\n\u001b[0;32m      1\u001b[0m \u001b[38;5;66;03m#Read Dataset\u001b[39;00m\n\u001b[1;32m----> 2\u001b[0m data \u001b[38;5;241m=\u001b[39m \u001b[43mpd\u001b[49m\u001b[38;5;241;43m.\u001b[39;49m\u001b[43mread_csv\u001b[49m\u001b[43m(\u001b[49m\u001b[38;5;124;43m\"\u001b[39;49m\u001b[38;5;124;43mD:\u001b[39;49m\u001b[38;5;124;43m\\\u001b[39;49m\u001b[38;5;124;43mPROPOSAL SKRIPSI\u001b[39;49m\u001b[38;5;124;43m\\\u001b[39;49m\u001b[38;5;124;43mDATASET\u001b[39;49m\u001b[38;5;124;43m\\\u001b[39;49m\u001b[38;5;124;43mdepressed.csv\u001b[39;49m\u001b[38;5;124;43m\"\u001b[39;49m\u001b[43m)\u001b[49m\n\u001b[0;32m      3\u001b[0m \u001b[38;5;66;03m# data = pd.read_csv(\"D:\\PROPOSAL SKRIPSI\\iris.csv\")\u001b[39;00m\n\u001b[0;32m      4\u001b[0m df \u001b[38;5;241m=\u001b[39m pd\u001b[38;5;241m.\u001b[39mDataFrame(data)\n",
      "File \u001b[1;32m~\\anaconda3\\lib\\site-packages\\pandas\\util\\_decorators.py:311\u001b[0m, in \u001b[0;36mdeprecate_nonkeyword_arguments.<locals>.decorate.<locals>.wrapper\u001b[1;34m(*args, **kwargs)\u001b[0m\n\u001b[0;32m    305\u001b[0m \u001b[38;5;28;01mif\u001b[39;00m \u001b[38;5;28mlen\u001b[39m(args) \u001b[38;5;241m>\u001b[39m num_allow_args:\n\u001b[0;32m    306\u001b[0m     warnings\u001b[38;5;241m.\u001b[39mwarn(\n\u001b[0;32m    307\u001b[0m         msg\u001b[38;5;241m.\u001b[39mformat(arguments\u001b[38;5;241m=\u001b[39marguments),\n\u001b[0;32m    308\u001b[0m         \u001b[38;5;167;01mFutureWarning\u001b[39;00m,\n\u001b[0;32m    309\u001b[0m         stacklevel\u001b[38;5;241m=\u001b[39mstacklevel,\n\u001b[0;32m    310\u001b[0m     )\n\u001b[1;32m--> 311\u001b[0m \u001b[38;5;28;01mreturn\u001b[39;00m func(\u001b[38;5;241m*\u001b[39margs, \u001b[38;5;241m*\u001b[39m\u001b[38;5;241m*\u001b[39mkwargs)\n",
      "File \u001b[1;32m~\\anaconda3\\lib\\site-packages\\pandas\\io\\parsers\\readers.py:680\u001b[0m, in \u001b[0;36mread_csv\u001b[1;34m(filepath_or_buffer, sep, delimiter, header, names, index_col, usecols, squeeze, prefix, mangle_dupe_cols, dtype, engine, converters, true_values, false_values, skipinitialspace, skiprows, skipfooter, nrows, na_values, keep_default_na, na_filter, verbose, skip_blank_lines, parse_dates, infer_datetime_format, keep_date_col, date_parser, dayfirst, cache_dates, iterator, chunksize, compression, thousands, decimal, lineterminator, quotechar, quoting, doublequote, escapechar, comment, encoding, encoding_errors, dialect, error_bad_lines, warn_bad_lines, on_bad_lines, delim_whitespace, low_memory, memory_map, float_precision, storage_options)\u001b[0m\n\u001b[0;32m    665\u001b[0m kwds_defaults \u001b[38;5;241m=\u001b[39m _refine_defaults_read(\n\u001b[0;32m    666\u001b[0m     dialect,\n\u001b[0;32m    667\u001b[0m     delimiter,\n\u001b[1;32m   (...)\u001b[0m\n\u001b[0;32m    676\u001b[0m     defaults\u001b[38;5;241m=\u001b[39m{\u001b[38;5;124m\"\u001b[39m\u001b[38;5;124mdelimiter\u001b[39m\u001b[38;5;124m\"\u001b[39m: \u001b[38;5;124m\"\u001b[39m\u001b[38;5;124m,\u001b[39m\u001b[38;5;124m\"\u001b[39m},\n\u001b[0;32m    677\u001b[0m )\n\u001b[0;32m    678\u001b[0m kwds\u001b[38;5;241m.\u001b[39mupdate(kwds_defaults)\n\u001b[1;32m--> 680\u001b[0m \u001b[38;5;28;01mreturn\u001b[39;00m \u001b[43m_read\u001b[49m\u001b[43m(\u001b[49m\u001b[43mfilepath_or_buffer\u001b[49m\u001b[43m,\u001b[49m\u001b[43m \u001b[49m\u001b[43mkwds\u001b[49m\u001b[43m)\u001b[49m\n",
      "File \u001b[1;32m~\\anaconda3\\lib\\site-packages\\pandas\\io\\parsers\\readers.py:575\u001b[0m, in \u001b[0;36m_read\u001b[1;34m(filepath_or_buffer, kwds)\u001b[0m\n\u001b[0;32m    572\u001b[0m _validate_names(kwds\u001b[38;5;241m.\u001b[39mget(\u001b[38;5;124m\"\u001b[39m\u001b[38;5;124mnames\u001b[39m\u001b[38;5;124m\"\u001b[39m, \u001b[38;5;28;01mNone\u001b[39;00m))\n\u001b[0;32m    574\u001b[0m \u001b[38;5;66;03m# Create the parser.\u001b[39;00m\n\u001b[1;32m--> 575\u001b[0m parser \u001b[38;5;241m=\u001b[39m TextFileReader(filepath_or_buffer, \u001b[38;5;241m*\u001b[39m\u001b[38;5;241m*\u001b[39mkwds)\n\u001b[0;32m    577\u001b[0m \u001b[38;5;28;01mif\u001b[39;00m chunksize \u001b[38;5;129;01mor\u001b[39;00m iterator:\n\u001b[0;32m    578\u001b[0m     \u001b[38;5;28;01mreturn\u001b[39;00m parser\n",
      "File \u001b[1;32m~\\anaconda3\\lib\\site-packages\\pandas\\io\\parsers\\readers.py:933\u001b[0m, in \u001b[0;36mTextFileReader.__init__\u001b[1;34m(self, f, engine, **kwds)\u001b[0m\n\u001b[0;32m    930\u001b[0m     \u001b[38;5;28mself\u001b[39m\u001b[38;5;241m.\u001b[39moptions[\u001b[38;5;124m\"\u001b[39m\u001b[38;5;124mhas_index_names\u001b[39m\u001b[38;5;124m\"\u001b[39m] \u001b[38;5;241m=\u001b[39m kwds[\u001b[38;5;124m\"\u001b[39m\u001b[38;5;124mhas_index_names\u001b[39m\u001b[38;5;124m\"\u001b[39m]\n\u001b[0;32m    932\u001b[0m \u001b[38;5;28mself\u001b[39m\u001b[38;5;241m.\u001b[39mhandles: IOHandles \u001b[38;5;241m|\u001b[39m \u001b[38;5;28;01mNone\u001b[39;00m \u001b[38;5;241m=\u001b[39m \u001b[38;5;28;01mNone\u001b[39;00m\n\u001b[1;32m--> 933\u001b[0m \u001b[38;5;28mself\u001b[39m\u001b[38;5;241m.\u001b[39m_engine \u001b[38;5;241m=\u001b[39m \u001b[38;5;28;43mself\u001b[39;49m\u001b[38;5;241;43m.\u001b[39;49m\u001b[43m_make_engine\u001b[49m\u001b[43m(\u001b[49m\u001b[43mf\u001b[49m\u001b[43m,\u001b[49m\u001b[43m \u001b[49m\u001b[38;5;28;43mself\u001b[39;49m\u001b[38;5;241;43m.\u001b[39;49m\u001b[43mengine\u001b[49m\u001b[43m)\u001b[49m\n",
      "File \u001b[1;32m~\\anaconda3\\lib\\site-packages\\pandas\\io\\parsers\\readers.py:1217\u001b[0m, in \u001b[0;36mTextFileReader._make_engine\u001b[1;34m(self, f, engine)\u001b[0m\n\u001b[0;32m   1213\u001b[0m     mode \u001b[38;5;241m=\u001b[39m \u001b[38;5;124m\"\u001b[39m\u001b[38;5;124mrb\u001b[39m\u001b[38;5;124m\"\u001b[39m\n\u001b[0;32m   1214\u001b[0m \u001b[38;5;66;03m# error: No overload variant of \"get_handle\" matches argument types\u001b[39;00m\n\u001b[0;32m   1215\u001b[0m \u001b[38;5;66;03m# \"Union[str, PathLike[str], ReadCsvBuffer[bytes], ReadCsvBuffer[str]]\"\u001b[39;00m\n\u001b[0;32m   1216\u001b[0m \u001b[38;5;66;03m# , \"str\", \"bool\", \"Any\", \"Any\", \"Any\", \"Any\", \"Any\"\u001b[39;00m\n\u001b[1;32m-> 1217\u001b[0m \u001b[38;5;28mself\u001b[39m\u001b[38;5;241m.\u001b[39mhandles \u001b[38;5;241m=\u001b[39m \u001b[43mget_handle\u001b[49m\u001b[43m(\u001b[49m\u001b[43m  \u001b[49m\u001b[38;5;66;43;03m# type: ignore[call-overload]\u001b[39;49;00m\n\u001b[0;32m   1218\u001b[0m \u001b[43m    \u001b[49m\u001b[43mf\u001b[49m\u001b[43m,\u001b[49m\n\u001b[0;32m   1219\u001b[0m \u001b[43m    \u001b[49m\u001b[43mmode\u001b[49m\u001b[43m,\u001b[49m\n\u001b[0;32m   1220\u001b[0m \u001b[43m    \u001b[49m\u001b[43mencoding\u001b[49m\u001b[38;5;241;43m=\u001b[39;49m\u001b[38;5;28;43mself\u001b[39;49m\u001b[38;5;241;43m.\u001b[39;49m\u001b[43moptions\u001b[49m\u001b[38;5;241;43m.\u001b[39;49m\u001b[43mget\u001b[49m\u001b[43m(\u001b[49m\u001b[38;5;124;43m\"\u001b[39;49m\u001b[38;5;124;43mencoding\u001b[39;49m\u001b[38;5;124;43m\"\u001b[39;49m\u001b[43m,\u001b[49m\u001b[43m \u001b[49m\u001b[38;5;28;43;01mNone\u001b[39;49;00m\u001b[43m)\u001b[49m\u001b[43m,\u001b[49m\n\u001b[0;32m   1221\u001b[0m \u001b[43m    \u001b[49m\u001b[43mcompression\u001b[49m\u001b[38;5;241;43m=\u001b[39;49m\u001b[38;5;28;43mself\u001b[39;49m\u001b[38;5;241;43m.\u001b[39;49m\u001b[43moptions\u001b[49m\u001b[38;5;241;43m.\u001b[39;49m\u001b[43mget\u001b[49m\u001b[43m(\u001b[49m\u001b[38;5;124;43m\"\u001b[39;49m\u001b[38;5;124;43mcompression\u001b[39;49m\u001b[38;5;124;43m\"\u001b[39;49m\u001b[43m,\u001b[49m\u001b[43m \u001b[49m\u001b[38;5;28;43;01mNone\u001b[39;49;00m\u001b[43m)\u001b[49m\u001b[43m,\u001b[49m\n\u001b[0;32m   1222\u001b[0m \u001b[43m    \u001b[49m\u001b[43mmemory_map\u001b[49m\u001b[38;5;241;43m=\u001b[39;49m\u001b[38;5;28;43mself\u001b[39;49m\u001b[38;5;241;43m.\u001b[39;49m\u001b[43moptions\u001b[49m\u001b[38;5;241;43m.\u001b[39;49m\u001b[43mget\u001b[49m\u001b[43m(\u001b[49m\u001b[38;5;124;43m\"\u001b[39;49m\u001b[38;5;124;43mmemory_map\u001b[39;49m\u001b[38;5;124;43m\"\u001b[39;49m\u001b[43m,\u001b[49m\u001b[43m \u001b[49m\u001b[38;5;28;43;01mFalse\u001b[39;49;00m\u001b[43m)\u001b[49m\u001b[43m,\u001b[49m\n\u001b[0;32m   1223\u001b[0m \u001b[43m    \u001b[49m\u001b[43mis_text\u001b[49m\u001b[38;5;241;43m=\u001b[39;49m\u001b[43mis_text\u001b[49m\u001b[43m,\u001b[49m\n\u001b[0;32m   1224\u001b[0m \u001b[43m    \u001b[49m\u001b[43merrors\u001b[49m\u001b[38;5;241;43m=\u001b[39;49m\u001b[38;5;28;43mself\u001b[39;49m\u001b[38;5;241;43m.\u001b[39;49m\u001b[43moptions\u001b[49m\u001b[38;5;241;43m.\u001b[39;49m\u001b[43mget\u001b[49m\u001b[43m(\u001b[49m\u001b[38;5;124;43m\"\u001b[39;49m\u001b[38;5;124;43mencoding_errors\u001b[39;49m\u001b[38;5;124;43m\"\u001b[39;49m\u001b[43m,\u001b[49m\u001b[43m \u001b[49m\u001b[38;5;124;43m\"\u001b[39;49m\u001b[38;5;124;43mstrict\u001b[39;49m\u001b[38;5;124;43m\"\u001b[39;49m\u001b[43m)\u001b[49m\u001b[43m,\u001b[49m\n\u001b[0;32m   1225\u001b[0m \u001b[43m    \u001b[49m\u001b[43mstorage_options\u001b[49m\u001b[38;5;241;43m=\u001b[39;49m\u001b[38;5;28;43mself\u001b[39;49m\u001b[38;5;241;43m.\u001b[39;49m\u001b[43moptions\u001b[49m\u001b[38;5;241;43m.\u001b[39;49m\u001b[43mget\u001b[49m\u001b[43m(\u001b[49m\u001b[38;5;124;43m\"\u001b[39;49m\u001b[38;5;124;43mstorage_options\u001b[39;49m\u001b[38;5;124;43m\"\u001b[39;49m\u001b[43m,\u001b[49m\u001b[43m \u001b[49m\u001b[38;5;28;43;01mNone\u001b[39;49;00m\u001b[43m)\u001b[49m\u001b[43m,\u001b[49m\n\u001b[0;32m   1226\u001b[0m \u001b[43m\u001b[49m\u001b[43m)\u001b[49m\n\u001b[0;32m   1227\u001b[0m \u001b[38;5;28;01massert\u001b[39;00m \u001b[38;5;28mself\u001b[39m\u001b[38;5;241m.\u001b[39mhandles \u001b[38;5;129;01mis\u001b[39;00m \u001b[38;5;129;01mnot\u001b[39;00m \u001b[38;5;28;01mNone\u001b[39;00m\n\u001b[0;32m   1228\u001b[0m f \u001b[38;5;241m=\u001b[39m \u001b[38;5;28mself\u001b[39m\u001b[38;5;241m.\u001b[39mhandles\u001b[38;5;241m.\u001b[39mhandle\n",
      "File \u001b[1;32m~\\anaconda3\\lib\\site-packages\\pandas\\io\\common.py:789\u001b[0m, in \u001b[0;36mget_handle\u001b[1;34m(path_or_buf, mode, encoding, compression, memory_map, is_text, errors, storage_options)\u001b[0m\n\u001b[0;32m    784\u001b[0m \u001b[38;5;28;01melif\u001b[39;00m \u001b[38;5;28misinstance\u001b[39m(handle, \u001b[38;5;28mstr\u001b[39m):\n\u001b[0;32m    785\u001b[0m     \u001b[38;5;66;03m# Check whether the filename is to be opened in binary mode.\u001b[39;00m\n\u001b[0;32m    786\u001b[0m     \u001b[38;5;66;03m# Binary mode does not support 'encoding' and 'newline'.\u001b[39;00m\n\u001b[0;32m    787\u001b[0m     \u001b[38;5;28;01mif\u001b[39;00m ioargs\u001b[38;5;241m.\u001b[39mencoding \u001b[38;5;129;01mand\u001b[39;00m \u001b[38;5;124m\"\u001b[39m\u001b[38;5;124mb\u001b[39m\u001b[38;5;124m\"\u001b[39m \u001b[38;5;129;01mnot\u001b[39;00m \u001b[38;5;129;01min\u001b[39;00m ioargs\u001b[38;5;241m.\u001b[39mmode:\n\u001b[0;32m    788\u001b[0m         \u001b[38;5;66;03m# Encoding\u001b[39;00m\n\u001b[1;32m--> 789\u001b[0m         handle \u001b[38;5;241m=\u001b[39m \u001b[38;5;28;43mopen\u001b[39;49m\u001b[43m(\u001b[49m\n\u001b[0;32m    790\u001b[0m \u001b[43m            \u001b[49m\u001b[43mhandle\u001b[49m\u001b[43m,\u001b[49m\n\u001b[0;32m    791\u001b[0m \u001b[43m            \u001b[49m\u001b[43mioargs\u001b[49m\u001b[38;5;241;43m.\u001b[39;49m\u001b[43mmode\u001b[49m\u001b[43m,\u001b[49m\n\u001b[0;32m    792\u001b[0m \u001b[43m            \u001b[49m\u001b[43mencoding\u001b[49m\u001b[38;5;241;43m=\u001b[39;49m\u001b[43mioargs\u001b[49m\u001b[38;5;241;43m.\u001b[39;49m\u001b[43mencoding\u001b[49m\u001b[43m,\u001b[49m\n\u001b[0;32m    793\u001b[0m \u001b[43m            \u001b[49m\u001b[43merrors\u001b[49m\u001b[38;5;241;43m=\u001b[39;49m\u001b[43merrors\u001b[49m\u001b[43m,\u001b[49m\n\u001b[0;32m    794\u001b[0m \u001b[43m            \u001b[49m\u001b[43mnewline\u001b[49m\u001b[38;5;241;43m=\u001b[39;49m\u001b[38;5;124;43m\"\u001b[39;49m\u001b[38;5;124;43m\"\u001b[39;49m\u001b[43m,\u001b[49m\n\u001b[0;32m    795\u001b[0m \u001b[43m        \u001b[49m\u001b[43m)\u001b[49m\n\u001b[0;32m    796\u001b[0m     \u001b[38;5;28;01melse\u001b[39;00m:\n\u001b[0;32m    797\u001b[0m         \u001b[38;5;66;03m# Binary mode\u001b[39;00m\n\u001b[0;32m    798\u001b[0m         handle \u001b[38;5;241m=\u001b[39m \u001b[38;5;28mopen\u001b[39m(handle, ioargs\u001b[38;5;241m.\u001b[39mmode)\n",
      "\u001b[1;31mFileNotFoundError\u001b[0m: [Errno 2] No such file or directory: 'D:\\\\PROPOSAL SKRIPSI\\\\DATASET\\\\depressed.csv'"
     ]
    }
   ],
   "source": [
    "#Read Dataset\n",
    "data = pd.read_csv(\"D:\\PROPOSAL SKRIPSI\\DATASET\\depressed.csv\")\n",
    "# data = pd.read_csv(\"D:\\PROPOSAL SKRIPSI\\iris.csv\")\n",
    "df = pd.DataFrame(data)\n",
    "# df.drop('Id', axis = 1, inplace=True)\n",
    "df.drop('depressed', axis = 1, inplace=True)\n",
    "df.drop('Results', axis = 1, inplace=True)\n",
    "data.style"
   ]
  },
  {
   "cell_type": "markdown",
   "metadata": {},
   "source": [
    "# Mendefinisikan Konstruktor  dan Fungsi untuk Algoritma Perhitungan"
   ]
  },
  {
   "cell_type": "code",
   "execution_count": 3,
   "metadata": {},
   "outputs": [],
   "source": [
    "class CorrelationCoefficient:\n",
    "    r = []\n",
    "    t = []\n",
    "    pval = []\n",
    "    n = len(df)\n",
    "    threshold = 0.05\n",
    "    \n",
    "    def compute_r(self, x, y):\n",
    "        \"\"\" R computation\n",
    "        :param  list  x: 1st list of random variables\n",
    "        :param  list  y: 2nd list of random variables\n",
    "        :return float r: correlation coefficient of X and Y\n",
    "        \"\"\"\n",
    "        if type(x) != list:\n",
    "            print(\"Argument(X) is not a list!\")\n",
    "            sys.exit()\n",
    "        if type(y) != list:\n",
    "            print(\"Argument(Y) is not a list!\")\n",
    "            sys.exit()\n",
    "        if len(x) == 0:\n",
    "            print(\"List(X) is none!\")\n",
    "            sys.exit()\n",
    "        if len(y) == 0:\n",
    "            print(\"List(Y) is none!\")\n",
    "            sys.exit()\n",
    "        if len(x) != len(y):\n",
    "            print(\"Argument list size is invalid!\")\n",
    "            sys.exit()\n",
    "        try:\n",
    "            mean_x, mean_y  = sum(x) / len(x), sum(y) / len(y)\n",
    "            cov   = sum([(a - mean_x) * (b - mean_y) for a, b in zip(x, y)])\n",
    "            var_x = sum([(a - mean_x) ** 2 for a in x])\n",
    "            var_y = sum([(b - mean_y) ** 2 for b in y])\n",
    "          \n",
    "            return (cov / math.sqrt(var_x)) / math.sqrt(var_y)\n",
    "        except Exception as e:\n",
    "            raise\n",
    "            \n",
    "    def compute_t(self, n, r_coeff):\n",
    "        try:\n",
    "            if r_coeff < 1 :\n",
    "                t = r_coeff * (cmath.sqrt(n - 2)/ cmath.sqrt(1 - r_coeff ** 2))\n",
    "            else:\n",
    "                t = 0\n",
    "            return t\n",
    "        except Exception as e:\n",
    "            raise\n",
    "            \n",
    "    def r_df_after_compute(self, np_array_r, index_name, col_name):\n",
    "        try:\n",
    "            df = pd.DataFrame(np_array_r, index=index_name, columns=col_name)\n",
    "            \n",
    "            return df\n",
    "        except Exception as e:\n",
    "            raise \n",
    "            \n",
    "    def t_df_after_compute(self, np_array_t, index_name, col_name):\n",
    "        try:\n",
    "            df = pd.DataFrame(np_array_t, index=index_name, columns=col_name, dtype=\"float\")\n",
    "            return df\n",
    "        except Exception as e:\n",
    "            raise \n",
    "            \n",
    "    def pval_df_after_compute(self, np_array_pval, index_name, col_name):\n",
    "        try:\n",
    "            df = pd.DataFrame(np_array_pval, index=index_name, columns=col_name)\n",
    "            return df\n",
    "        except Exception as e:\n",
    "            raise \n",
    "            \n",
    "    def drop_features(self, dataset, threshold):\n",
    "        try:\n",
    "            col_corr = set()\n",
    "            corr_matrix = dataset\n",
    "            for i in range(len(df.columns)):\n",
    "                for j in range (len(df.columns)) :\n",
    "                      if corr_matrix.iloc[i, j] > threshold and corr_matrix.iloc[i, j] != 1 and corr_matrix.columns[j] not in col_corr : #THRESHOLD CHECK\n",
    "                          colname = corr_matrix.columns[i]  #NAMA DARI FITUR/ KOLOM\n",
    "                          col_corr.add(colname)\n",
    "        \n",
    "            return col_corr\n",
    "        except Exception as e:\n",
    "            raise \n",
    "            "
   ]
  },
  {
   "cell_type": "markdown",
   "metadata": {},
   "source": [
    "# Mendefinisikan Konstruktor  dan Fungsi untuk Klasifikasi"
   ]
  },
  {
   "cell_type": "code",
   "execution_count": 4,
   "metadata": {},
   "outputs": [],
   "source": [
    "class classifier :\n",
    "    validation_size = 0.60\n",
    "    seed = 7       \n",
    "            \n",
    "    def model(self, drop_features):\n",
    "        try:\n",
    "            new_df = pd.DataFrame(data)\n",
    "            new_df.drop(drop_features, axis=1, inplace=True)\n",
    "            # new_df.drop('Id', axis=1, inplace=True)\n",
    "            new_df.drop('depressed', axis = 1, inplace=True)\n",
    "            new_df.replace([np.inf, -np.inf], np.nan, inplace=True)\n",
    "            new_df.dropna(inplace=True)\n",
    "            new_df.to_csv(\"D:\\PROPOSAL SKRIPSI\\DATASET NEW\\PCC\\DEPRESSEDNEW.csv\", index=False)\n",
    "            \n",
    "            X = new_df.values[:,:-1]\n",
    "            Y = new_df.values[:,-1:]\n",
    "            \n",
    "      \n",
    "            np.random.seed(classifier.seed)\n",
    "            \n",
    "            X_train, X_test, Y_train, Y_test = model_selection.train_test_split(X, Y, test_size=classifier.validation_size, random_state=classifier.seed)\n",
    "            \n",
    "        \n",
    "            return (X_train, X_test, Y_train, Y_test)\n",
    "            #return new_df\n",
    "        except Exception as e:\n",
    "            raise \n",
    "            \n",
    "            \n",
    "    def KNN(self, X_train, X_test, Y_train, Y_test):\n",
    "        try:\n",
    "            from sklearn.neighbors import KNeighborsClassifier\n",
    "            model_KNN = KNeighborsClassifier(n_neighbors = 5, weights = 'distance', p = 3)\n",
    "            \n",
    "            \n",
    "            \n",
    "            model_KNN.fit(X_train,Y_train.ravel())\n",
    "            Y_pred = model_KNN.predict(X_test)\n",
    "            \n",
    "            print('1) Confusion Matrix for KNN Model:')\n",
    "            confusion_mat = pd.crosstab(Y_test.flatten(), Y_pred, rownames=['Actual'], colnames=['Predicted'], margins=True)\n",
    "            from IPython.display import display\n",
    "            display(confusion_mat)\n",
    "            \n",
    "            from sklearn.metrics import classification_report\n",
    "            cr = classification_report(Y_test, Y_pred, labels=None, target_names=None, sample_weight=None, digits=2)\n",
    "            print('2) Classification report:\\n',cr)\n",
    "            \n",
    "            accuracy_train = model_KNN.score(X_train,Y_train)\n",
    "            accuracy_test = model_KNN.score(X_test,Y_test)\n",
    "            print('3) Accuracy on train and test datasets:', \"%.4f and %.4f\" % (accuracy_train, accuracy_test))\n",
    "           \n",
    "            \n",
    "            return (accuracy_train, accuracy_test)\n",
    "        \n",
    "        \n",
    "        \n",
    "            \n",
    "        except Exception as e:\n",
    "            raise \n",
    "            \n",
    "            \n",
    "    def DecisionTree(self, X_train, X_test, Y_train, Y_test):\n",
    "        try:\n",
    "            from sklearn.tree import DecisionTreeClassifier\n",
    "            model_DT = DecisionTreeClassifier(min_samples_leaf = 3, random_state = classifier.seed)\n",
    "           \n",
    "           \n",
    "            model_DT.fit(X_train,Y_train)\n",
    "            Y_pred = model_DT.predict(X_test)\n",
    "            \n",
    "            print('1) Confusion Matrix for SVC Model:')\n",
    "            confusion_mat = pd.crosstab(Y_test.flatten(), Y_pred, rownames=['Actual'], colnames=['Predicted'], margins=True)\n",
    "            from IPython.display import display\n",
    "            display(confusion_mat)\n",
    "            \n",
    "            from sklearn.metrics import classification_report\n",
    "            cr = classification_report(Y_test.flatten(), Y_pred, labels=None, target_names=None, sample_weight=None, digits=2)\n",
    "            print('2) Classification report:\\n',cr)\n",
    "            \n",
    "            accuracy_train = model_DT.score(X_train,Y_train)\n",
    "            accuracy_test = model_DT.score(X_test,Y_test)\n",
    "            print('3) Accuracy on train and test datasets:', \"%.4f and %.4f\" % (accuracy_train, accuracy_test))\n",
    "           \n",
    "            return (accuracy_train, accuracy_test)\n",
    "       \n",
    "        \n",
    "        except Exception as e:\n",
    "            raise \n",
    "            \n",
    "            \n",
    "    def SupportVectorMachine(self, X_train, X_test, Y_train, Y_test):\n",
    "        try:\n",
    "            from sklearn import svm\n",
    "            model_SVC = svm.SVC(gamma = 'auto')\n",
    "            \n",
    "            \n",
    "            model_SVC.fit(X_train,Y_train.ravel())\n",
    "            Y_pred = model_SVC.predict(X_test)\n",
    "            \n",
    "            print('1) Confusion Matrix for SVC Model:')\n",
    "            confusion_mat = pd.crosstab(Y_test.flatten(), Y_pred, rownames=['Actual'], colnames=['Predicted'], margins=True)\n",
    "            from IPython.display import display\n",
    "            display(confusion_mat)\n",
    "            \n",
    "            from sklearn.metrics import classification_report\n",
    "            cr = classification_report(Y_test, Y_pred, labels=None, target_names=None, sample_weight=None, digits=2)\n",
    "            print('2) Classification report:\\n',cr)\n",
    "            \n",
    "            accuracy_train = model_SVC.score(X_train,Y_train)\n",
    "            accuracy_test = model_SVC.score(X_test,Y_test)\n",
    "            print('3) Accuracy on train and test datasets:', \"%.4f and %.4f\" % (accuracy_train, accuracy_test))\n",
    "            \n",
    "            return (accuracy_train, accuracy_test)\n",
    "        \n",
    "        \n",
    "        except Exception as e:\n",
    "            raise \n",
    "            \n",
    "            \n",
    "    def NaiveBayes(self, X_train, X_test, Y_train, Y_test):\n",
    "        try:\n",
    "            from sklearn.naive_bayes import GaussianNB\n",
    "            model_NB = GaussianNB()\n",
    "            \n",
    "            \n",
    "            model_NB.fit(X_train,Y_train.ravel())\n",
    "            Y_pred = model_NB.predict(X_test)\n",
    "            \n",
    "            print('1) Confusion Matrix for SVC Model:')\n",
    "            confusion_mat = pd.crosstab(Y_test.flatten(), Y_pred, rownames=['Actual'], colnames=['Predicted'], margins=True)\n",
    "            from IPython.display import display\n",
    "            display(confusion_mat)\n",
    "            \n",
    "            from sklearn.metrics import classification_report\n",
    "            cr = classification_report(Y_test, Y_pred, labels=None, target_names=None, sample_weight=None, digits=2)\n",
    "            print('2) Classification report:\\n',cr)\n",
    "            \n",
    "            accuracy_train = model_NB.score(X_train,Y_train)\n",
    "            accuracy_test = model_NB.score(X_test,Y_test)\n",
    "            print('3) Accuracy on train and test datasets:', \"%.4f and %.4f\" % (accuracy_train, accuracy_test))\n",
    "        \n",
    "            return (accuracy_train, accuracy_test)\n",
    "        \n",
    "        \n",
    "        except Exception as e:\n",
    "            raise "
   ]
  },
  {
   "cell_type": "markdown",
   "metadata": {},
   "source": [
    "# Main Program"
   ]
  },
  {
   "cell_type": "code",
   "execution_count": 5,
   "metadata": {},
   "outputs": [],
   "source": [
    "if __name__ == '__main__':\n",
    "    try:\n",
    "        for i in range(len(df.columns)):\n",
    "            x = df.iloc[:, i].tolist()\n",
    "            col_r = []\n",
    "            col_t = []\n",
    "            col_pval = []\n",
    "            for j in range (len(df.columns)):\n",
    "                y = df.iloc[:, j].tolist()\n",
    "                obj = CorrelationCoefficient()\n",
    "                \n",
    "                # PERHITUNGAN R, T-TEST, P-VALUE\n",
    "                r_coeff = obj.compute_r(x, y)\n",
    "                t_test = obj.compute_t(obj.n, r_coeff)\n",
    "                p_val = t.sf(np.abs(t_test), obj.n-1)*2 \n",
    "                \n",
    "                # MEMASUKKAN PERHITUNGAN KEDALAM LIST\n",
    "                col_r.append(obj.compute_r(x, y))\n",
    "                col_t.append(t_test)\n",
    "                col_pval.append(p_val)\n",
    "                \n",
    "            obj.r.append(col_r)\n",
    "            obj.t.append(col_t)\n",
    "            obj.pval.append(col_pval)\n",
    "    except Exception as e:\n",
    "        traceback.print_exc()\n",
    "        sys.exit(1)"
   ]
  },
  {
   "cell_type": "markdown",
   "metadata": {},
   "source": [
    "# MENGUBAH LIST MENJADI NUMPY ARRAY"
   ]
  },
  {
   "cell_type": "code",
   "execution_count": 6,
   "metadata": {},
   "outputs": [],
   "source": [
    "np_array_r = np.array(obj.r)\n",
    "np_array_ttest = np.array(obj.t)\n",
    "np_array_pval = np.array(obj.pval)"
   ]
  },
  {
   "cell_type": "markdown",
   "metadata": {},
   "source": [
    "# MENGUBAH NUMPY ARRAY MENJADI DATAFRAME"
   ]
  },
  {
   "cell_type": "code",
   "execution_count": 7,
   "metadata": {},
   "outputs": [
    {
     "name": "stderr",
     "output_type": "stream",
     "text": [
      "D:\\Anaconda\\lib\\site-packages\\pandas\\core\\internals\\construction.py:195: ComplexWarning: Casting complex values to real discards the imaginary part\n",
      "  values = values.astype(dtype)\n"
     ]
    }
   ],
   "source": [
    "\n",
    "r_df = obj.r_df_after_compute(np_array_r, df.columns, df.columns)\n",
    "t_df = obj.t_df_after_compute(np_array_ttest, df.columns, df.columns)\n",
    "pval_df = obj.pval_df_after_compute(np_array_pval, df.columns, df.columns)\n",
    "\n",
    "        "
   ]
  },
  {
   "cell_type": "code",
   "execution_count": 8,
   "metadata": {},
   "outputs": [
    {
     "data": {
      "text/plain": [
       "<AxesSubplot:>"
      ]
     },
     "execution_count": 8,
     "metadata": {},
     "output_type": "execute_result"
    },
    {
     "data": {
      "image/png": "[encoded data removed]",
      "text/plain": [
       "<Figure size 432x288 with 2 Axes>"
      ]
     },
     "metadata": {
      "needs_background": "light"
     },
     "output_type": "display_data"
    }
   ],
   "source": [
    "sns.heatmap(r_df, xticklabels=True, yticklabels=True)"
   ]
  },
  {
   "cell_type": "code",
   "execution_count": 9,
   "metadata": {},
   "outputs": [
    {
     "data": {
      "text/plain": [
       "<AxesSubplot:>"
      ]
     },
     "execution_count": 9,
     "metadata": {},
     "output_type": "execute_result"
    },
    {
     "data": {
      "image/png": "[encoded data removed]",
      "text/plain": [
       "<Figure size 432x288 with 2 Axes>"
      ]
     },
     "metadata": {
      "needs_background": "light"
     },
     "output_type": "display_data"
    }
   ],
   "source": [
    "sns.heatmap(t_df, xticklabels=True, yticklabels=True)"
   ]
  },
  {
   "cell_type": "code",
   "execution_count": 10,
   "metadata": {},
   "outputs": [
    {
     "data": {
      "text/plain": [
       "<AxesSubplot:>"
      ]
     },
     "execution_count": 10,
     "metadata": {},
     "output_type": "execute_result"
    },
    {
     "data": {
      "image/png": "[encoded data removed]",
      "text/plain": [
       "<Figure size 432x288 with 2 Axes>"
      ]
     },
     "metadata": {
      "needs_background": "light"
     },
     "output_type": "display_data"
    }
   ],
   "source": [
    "sns.heatmap(pval_df, xticklabels=True, yticklabels=True)"
   ]
  },
  {
   "cell_type": "markdown",
   "metadata": {},
   "source": [
    "# Drop Fitur"
   ]
  },
  {
   "cell_type": "code",
   "execution_count": 11,
   "metadata": {},
   "outputs": [
    {
     "name": "stdout",
     "output_type": "stream",
     "text": [
      "{'Ville_id', 'education_level', 'incoming_agricultural', 'save_asset', 'Number_children', 'sex', 'other_expenses', 'farm_expenses', 'living_expenses', 'incoming_no_business', 'gained_asset', 'labor_primary', 'incoming_salary', 'Married', 'total_members', 'Survey_id', 'Age', 'durable_asset', 'incoming_business'}\n",
      "19\n"
     ]
    }
   ],
   "source": [
    "objClassifier = classifier()\n",
    "drop_features = obj.drop_features(obj.pval_df_after_compute(np_array_pval, df.columns, df.columns), obj.threshold)\n",
    "print(drop_features)\n",
    "print(len(drop_features))\n",
    "model = objClassifier.model(drop_features)\n",
    "#model.head().style"
   ]
  },
  {
   "cell_type": "markdown",
   "metadata": {},
   "source": [
    "# Hasil Klasifikasi Untuk Setiap Classifier"
   ]
  },
  {
   "cell_type": "markdown",
   "metadata": {},
   "source": [
    "## KNN"
   ]
  },
  {
   "cell_type": "code",
   "execution_count": 12,
   "metadata": {},
   "outputs": [
    {
     "name": "stdout",
     "output_type": "stream",
     "text": [
      "1) Confusion Matrix for KNN Model:\n"
     ]
    },
    {
     "data": {
      "text/html": [
       "<div>\n",
       "<style scoped>\n",
       "    .dataframe tbody tr th:only-of-type {\n",
       "        vertical-align: middle;\n",
       "    }\n",
       "\n",
       "    .dataframe tbody tr th {\n",
       "        vertical-align: top;\n",
       "    }\n",
       "\n",
       "    .dataframe thead th {\n",
       "        text-align: right;\n",
       "    }\n",
       "</style>\n",
       "<table border=\"1\" class=\"dataframe\">\n",
       "  <thead>\n",
       "    <tr style=\"text-align: right;\">\n",
       "      <th>Predicted</th>\n",
       "      <th>Depressed</th>\n",
       "      <th>No</th>\n",
       "      <th>All</th>\n",
       "    </tr>\n",
       "    <tr>\n",
       "      <th>Actual</th>\n",
       "      <th></th>\n",
       "      <th></th>\n",
       "      <th></th>\n",
       "    </tr>\n",
       "  </thead>\n",
       "  <tbody>\n",
       "    <tr>\n",
       "      <th>Depressed</th>\n",
       "      <td>6</td>\n",
       "      <td>122</td>\n",
       "      <td>128</td>\n",
       "    </tr>\n",
       "    <tr>\n",
       "      <th>No</th>\n",
       "      <td>41</td>\n",
       "      <td>677</td>\n",
       "      <td>718</td>\n",
       "    </tr>\n",
       "    <tr>\n",
       "      <th>All</th>\n",
       "      <td>47</td>\n",
       "      <td>799</td>\n",
       "      <td>846</td>\n",
       "    </tr>\n",
       "  </tbody>\n",
       "</table>\n",
       "</div>"
      ],
      "text/plain": [
       "Predicted  Depressed   No  All\n",
       "Actual                        \n",
       "Depressed          6  122  128\n",
       "No                41  677  718\n",
       "All               47  799  846"
      ]
     },
     "metadata": {},
     "output_type": "display_data"
    },
    {
     "name": "stdout",
     "output_type": "stream",
     "text": [
      "2) Classification report:\n",
      "               precision    recall  f1-score   support\n",
      "\n",
      "   Depressed       0.13      0.05      0.07       128\n",
      "          No       0.85      0.94      0.89       718\n",
      "\n",
      "    accuracy                           0.81       846\n",
      "   macro avg       0.49      0.49      0.48       846\n",
      "weighted avg       0.74      0.81      0.77       846\n",
      "\n",
      "3) Accuracy on train and test datasets: 0.9307 and 0.8073\n"
     ]
    }
   ],
   "source": [
    "KNN = objClassifier.KNN(model[0], model[1], model[2], model[3])"
   ]
  },
  {
   "cell_type": "markdown",
   "metadata": {},
   "source": [
    "## Decision Tree "
   ]
  },
  {
   "cell_type": "code",
   "execution_count": 13,
   "metadata": {},
   "outputs": [
    {
     "name": "stdout",
     "output_type": "stream",
     "text": [
      "1) Confusion Matrix for SVC Model:\n"
     ]
    },
    {
     "data": {
      "text/html": [
       "<div>\n",
       "<style scoped>\n",
       "    .dataframe tbody tr th:only-of-type {\n",
       "        vertical-align: middle;\n",
       "    }\n",
       "\n",
       "    .dataframe tbody tr th {\n",
       "        vertical-align: top;\n",
       "    }\n",
       "\n",
       "    .dataframe thead th {\n",
       "        text-align: right;\n",
       "    }\n",
       "</style>\n",
       "<table border=\"1\" class=\"dataframe\">\n",
       "  <thead>\n",
       "    <tr style=\"text-align: right;\">\n",
       "      <th>Predicted</th>\n",
       "      <th>Depressed</th>\n",
       "      <th>No</th>\n",
       "      <th>All</th>\n",
       "    </tr>\n",
       "    <tr>\n",
       "      <th>Actual</th>\n",
       "      <th></th>\n",
       "      <th></th>\n",
       "      <th></th>\n",
       "    </tr>\n",
       "  </thead>\n",
       "  <tbody>\n",
       "    <tr>\n",
       "      <th>Depressed</th>\n",
       "      <td>13</td>\n",
       "      <td>115</td>\n",
       "      <td>128</td>\n",
       "    </tr>\n",
       "    <tr>\n",
       "      <th>No</th>\n",
       "      <td>111</td>\n",
       "      <td>607</td>\n",
       "      <td>718</td>\n",
       "    </tr>\n",
       "    <tr>\n",
       "      <th>All</th>\n",
       "      <td>124</td>\n",
       "      <td>722</td>\n",
       "      <td>846</td>\n",
       "    </tr>\n",
       "  </tbody>\n",
       "</table>\n",
       "</div>"
      ],
      "text/plain": [
       "Predicted  Depressed   No  All\n",
       "Actual                        \n",
       "Depressed         13  115  128\n",
       "No               111  607  718\n",
       "All              124  722  846"
      ]
     },
     "metadata": {},
     "output_type": "display_data"
    },
    {
     "name": "stdout",
     "output_type": "stream",
     "text": [
      "2) Classification report:\n",
      "               precision    recall  f1-score   support\n",
      "\n",
      "   Depressed       0.10      0.10      0.10       128\n",
      "          No       0.84      0.85      0.84       718\n",
      "\n",
      "    accuracy                           0.73       846\n",
      "   macro avg       0.47      0.47      0.47       846\n",
      "weighted avg       0.73      0.73      0.73       846\n",
      "\n",
      "3) Accuracy on train and test datasets: 0.8668 and 0.7329\n"
     ]
    }
   ],
   "source": [
    "DT = objClassifier.DecisionTree(model[0], model[1], model[2], model[3])"
   ]
  },
  {
   "cell_type": "markdown",
   "metadata": {},
   "source": [
    "## Support Vector Machine "
   ]
  },
  {
   "cell_type": "code",
   "execution_count": 14,
   "metadata": {},
   "outputs": [
    {
     "name": "stdout",
     "output_type": "stream",
     "text": [
      "1) Confusion Matrix for SVC Model:\n"
     ]
    },
    {
     "data": {
      "text/html": [
       "<div>\n",
       "<style scoped>\n",
       "    .dataframe tbody tr th:only-of-type {\n",
       "        vertical-align: middle;\n",
       "    }\n",
       "\n",
       "    .dataframe tbody tr th {\n",
       "        vertical-align: top;\n",
       "    }\n",
       "\n",
       "    .dataframe thead th {\n",
       "        text-align: right;\n",
       "    }\n",
       "</style>\n",
       "<table border=\"1\" class=\"dataframe\">\n",
       "  <thead>\n",
       "    <tr style=\"text-align: right;\">\n",
       "      <th>Predicted</th>\n",
       "      <th>No</th>\n",
       "      <th>All</th>\n",
       "    </tr>\n",
       "    <tr>\n",
       "      <th>Actual</th>\n",
       "      <th></th>\n",
       "      <th></th>\n",
       "    </tr>\n",
       "  </thead>\n",
       "  <tbody>\n",
       "    <tr>\n",
       "      <th>Depressed</th>\n",
       "      <td>128</td>\n",
       "      <td>128</td>\n",
       "    </tr>\n",
       "    <tr>\n",
       "      <th>No</th>\n",
       "      <td>718</td>\n",
       "      <td>718</td>\n",
       "    </tr>\n",
       "    <tr>\n",
       "      <th>All</th>\n",
       "      <td>846</td>\n",
       "      <td>846</td>\n",
       "    </tr>\n",
       "  </tbody>\n",
       "</table>\n",
       "</div>"
      ],
      "text/plain": [
       "Predicted   No  All\n",
       "Actual             \n",
       "Depressed  128  128\n",
       "No         718  718\n",
       "All        846  846"
      ]
     },
     "metadata": {},
     "output_type": "display_data"
    },
    {
     "name": "stdout",
     "output_type": "stream",
     "text": [
      "2) Classification report:\n",
      "               precision    recall  f1-score   support\n",
      "\n",
      "   Depressed       0.00      0.00      0.00       128\n",
      "          No       0.85      1.00      0.92       718\n",
      "\n",
      "    accuracy                           0.85       846\n",
      "   macro avg       0.42      0.50      0.46       846\n",
      "weighted avg       0.72      0.85      0.78       846\n",
      "\n",
      "3) Accuracy on train and test datasets: 0.9307 and 0.8487\n"
     ]
    },
    {
     "name": "stderr",
     "output_type": "stream",
     "text": [
      "D:\\Anaconda\\lib\\site-packages\\sklearn\\metrics\\_classification.py:1248: UndefinedMetricWarning: Precision and F-score are ill-defined and being set to 0.0 in labels with no predicted samples. Use `zero_division` parameter to control this behavior.\n",
      "  _warn_prf(average, modifier, msg_start, len(result))\n",
      "D:\\Anaconda\\lib\\site-packages\\sklearn\\metrics\\_classification.py:1248: UndefinedMetricWarning: Precision and F-score are ill-defined and being set to 0.0 in labels with no predicted samples. Use `zero_division` parameter to control this behavior.\n",
      "  _warn_prf(average, modifier, msg_start, len(result))\n",
      "D:\\Anaconda\\lib\\site-packages\\sklearn\\metrics\\_classification.py:1248: UndefinedMetricWarning: Precision and F-score are ill-defined and being set to 0.0 in labels with no predicted samples. Use `zero_division` parameter to control this behavior.\n",
      "  _warn_prf(average, modifier, msg_start, len(result))\n"
     ]
    }
   ],
   "source": [
    "SVM = objClassifier.SupportVectorMachine(model[0], model[1], model[2], model[3])"
   ]
  },
  {
   "cell_type": "markdown",
   "metadata": {},
   "source": [
    "## Naive Bayes"
   ]
  },
  {
   "cell_type": "code",
   "execution_count": 15,
   "metadata": {},
   "outputs": [
    {
     "name": "stdout",
     "output_type": "stream",
     "text": [
      "1) Confusion Matrix for SVC Model:\n"
     ]
    },
    {
     "data": {
      "text/html": [
       "<div>\n",
       "<style scoped>\n",
       "    .dataframe tbody tr th:only-of-type {\n",
       "        vertical-align: middle;\n",
       "    }\n",
       "\n",
       "    .dataframe tbody tr th {\n",
       "        vertical-align: top;\n",
       "    }\n",
       "\n",
       "    .dataframe thead th {\n",
       "        text-align: right;\n",
       "    }\n",
       "</style>\n",
       "<table border=\"1\" class=\"dataframe\">\n",
       "  <thead>\n",
       "    <tr style=\"text-align: right;\">\n",
       "      <th>Predicted</th>\n",
       "      <th>No</th>\n",
       "      <th>All</th>\n",
       "    </tr>\n",
       "    <tr>\n",
       "      <th>Actual</th>\n",
       "      <th></th>\n",
       "      <th></th>\n",
       "    </tr>\n",
       "  </thead>\n",
       "  <tbody>\n",
       "    <tr>\n",
       "      <th>Depressed</th>\n",
       "      <td>128</td>\n",
       "      <td>128</td>\n",
       "    </tr>\n",
       "    <tr>\n",
       "      <th>No</th>\n",
       "      <td>718</td>\n",
       "      <td>718</td>\n",
       "    </tr>\n",
       "    <tr>\n",
       "      <th>All</th>\n",
       "      <td>846</td>\n",
       "      <td>846</td>\n",
       "    </tr>\n",
       "  </tbody>\n",
       "</table>\n",
       "</div>"
      ],
      "text/plain": [
       "Predicted   No  All\n",
       "Actual             \n",
       "Depressed  128  128\n",
       "No         718  718\n",
       "All        846  846"
      ]
     },
     "metadata": {},
     "output_type": "display_data"
    },
    {
     "name": "stderr",
     "output_type": "stream",
     "text": [
      "D:\\Anaconda\\lib\\site-packages\\sklearn\\metrics\\_classification.py:1248: UndefinedMetricWarning: Precision and F-score are ill-defined and being set to 0.0 in labels with no predicted samples. Use `zero_division` parameter to control this behavior.\n",
      "  _warn_prf(average, modifier, msg_start, len(result))\n"
     ]
    },
    {
     "name": "stdout",
     "output_type": "stream",
     "text": [
      "2) Classification report:\n",
      "               precision    recall  f1-score   support\n",
      "\n",
      "   Depressed       0.00      0.00      0.00       128\n",
      "          No       0.85      1.00      0.92       718\n",
      "\n",
      "    accuracy                           0.85       846\n",
      "   macro avg       0.42      0.50      0.46       846\n",
      "weighted avg       0.72      0.85      0.78       846\n",
      "\n",
      "3) Accuracy on train and test datasets: 0.8099 and 0.8487\n"
     ]
    },
    {
     "name": "stderr",
     "output_type": "stream",
     "text": [
      "D:\\Anaconda\\lib\\site-packages\\sklearn\\metrics\\_classification.py:1248: UndefinedMetricWarning: Precision and F-score are ill-defined and being set to 0.0 in labels with no predicted samples. Use `zero_division` parameter to control this behavior.\n",
      "  _warn_prf(average, modifier, msg_start, len(result))\n",
      "D:\\Anaconda\\lib\\site-packages\\sklearn\\metrics\\_classification.py:1248: UndefinedMetricWarning: Precision and F-score are ill-defined and being set to 0.0 in labels with no predicted samples. Use `zero_division` parameter to control this behavior.\n",
      "  _warn_prf(average, modifier, msg_start, len(result))\n"
     ]
    }
   ],
   "source": [
    "NB = objClassifier.NaiveBayes(model[0], model[1], model[2], model[3])"
   ]
  },
  {
   "cell_type": "code",
   "execution_count": null,
   "metadata": {},
   "outputs": [],
   "source": []
  },
  {
   "cell_type": "code",
   "execution_count": null,
   "metadata": {},
   "outputs": [],
   "source": []
  }
 ],
 "metadata": {
  "kernelspec": {
   "display_name": "Python 3 (ipykernel)",
   "language": "python",
   "name": "python3"
  },
  "language_info": {
   "codemirror_mode": {
    "name": "ipython",
    "version": 3
   },
   "file_extension": ".py",
   "mimetype": "text/x-python",
   "name": "python",
   "nbconvert_exporter": "python",
   "pygments_lexer": "ipython3",
   "version": "3.9.12"
  }
 },
 "nbformat": 4,
 "nbformat_minor": 4
}
